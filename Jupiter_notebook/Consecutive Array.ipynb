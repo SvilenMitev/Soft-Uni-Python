{
 "cells": [
  {
   "cell_type": "code",
   "execution_count": 1,
   "id": "8b7887d8",
   "metadata": {},
   "outputs": [],
   "source": [
    "import numpy as np"
   ]
  },
  {
   "cell_type": "code",
   "execution_count": null,
   "id": "ee62ae9c",
   "metadata": {},
   "outputs": [],
   "source": [
    "first_number = int(input())"
   ]
  },
  {
   "cell_type": "code",
   "execution_count": null,
   "id": "029c28f7",
   "metadata": {},
   "outputs": [],
   "source": [
    "last_number = int(input())"
   ]
  },
  {
   "cell_type": "code",
   "execution_count": null,
   "id": "757d5b28",
   "metadata": {},
   "outputs": [],
   "source": [
    "print(np.arange(first_number, last_number+1, 1))"
   ]
  },
  {
   "cell_type": "code",
   "execution_count": null,
   "id": "4b944390",
   "metadata": {},
   "outputs": [],
   "source": []
  },
  {
   "cell_type": "code",
   "execution_count": null,
   "id": "713e74aa",
   "metadata": {},
   "outputs": [],
   "source": []
  }
 ],
 "metadata": {
  "kernelspec": {
   "display_name": "Python 3 (ipykernel)",
   "language": "python",
   "name": "python3"
  },
  "language_info": {
   "codemirror_mode": {
    "name": "ipython",
    "version": 3
   },
   "file_extension": ".py",
   "mimetype": "text/x-python",
   "name": "python",
   "nbconvert_exporter": "python",
   "pygments_lexer": "ipython3",
   "version": "3.11.5"
  }
 },
 "nbformat": 4,
 "nbformat_minor": 5
}
