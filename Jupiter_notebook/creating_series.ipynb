{
 "cells": [
  {
   "cell_type": "code",
   "execution_count": 1,
   "id": "8bc486ab",
   "metadata": {},
   "outputs": [],
   "source": [
    "import pandas as pd\n"
   ]
  },
  {
   "cell_type": "code",
   "execution_count": null,
   "id": "c64d9a82",
   "metadata": {},
   "outputs": [],
   "source": [
    "n_number = int(input())"
   ]
  },
  {
   "cell_type": "code",
   "execution_count": null,
   "id": "c1791b55",
   "metadata": {},
   "outputs": [],
   "source": [
    "my_list = []"
   ]
  },
  {
   "cell_type": "code",
   "execution_count": null,
   "id": "b1d255fc",
   "metadata": {},
   "outputs": [],
   "source": [
    "for i in range(n_number):\n",
    "    numbers = int(input())\n",
    "    my_list.append(numbers)"
   ]
  },
  {
   "cell_type": "code",
   "execution_count": null,
   "id": "ef81453f",
   "metadata": {},
   "outputs": [],
   "source": [
    "s = pd.Series(my_list)"
   ]
  },
  {
   "cell_type": "code",
   "execution_count": null,
   "id": "1acae5b6",
   "metadata": {},
   "outputs": [],
   "source": [
    "print(s)"
   ]
  }
 ],
 "metadata": {
  "kernelspec": {
   "display_name": "Python 3 (ipykernel)",
   "language": "python",
   "name": "python3"
  },
  "language_info": {
   "codemirror_mode": {
    "name": "ipython",
    "version": 3
   },
   "file_extension": ".py",
   "mimetype": "text/x-python",
   "name": "python",
   "nbconvert_exporter": "python",
   "pygments_lexer": "ipython3",
   "version": "3.11.5"
  }
 },
 "nbformat": 4,
 "nbformat_minor": 5
}
