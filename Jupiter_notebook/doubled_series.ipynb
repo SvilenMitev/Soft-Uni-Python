{
 "cells": [
  {
   "cell_type": "markdown",
   "id": "1802306d",
   "metadata": {},
   "source": [
    "Write a program using Pandas that:\n",
    "\n",
    "· Read count of the numbers (N) from the first line of the console\n",
    "\n",
    "· Read as input a sequence of N integers, each integer on separate line\n",
    "\n",
    "· Transform it into Pandas Series\n",
    "\n",
    "· Multiply all of the elements by 2\n",
    "\n",
    "· Print the series\n"
   ]
  },
  {
   "cell_type": "code",
   "execution_count": 3,
   "id": "f1ea32bf",
   "metadata": {},
   "outputs": [],
   "source": [
    "import pandas as pd"
   ]
  },
  {
   "cell_type": "code",
   "execution_count": 4,
   "id": "f231dc6d",
   "metadata": {},
   "outputs": [
    {
     "name": "stdout",
     "output_type": "stream",
     "text": [
      "2\n"
     ]
    }
   ],
   "source": [
    "count_of_n = int(input())"
   ]
  },
  {
   "cell_type": "code",
   "execution_count": 5,
   "id": "1bbb13f0",
   "metadata": {},
   "outputs": [],
   "source": [
    "my_list = []"
   ]
  },
  {
   "cell_type": "code",
   "execution_count": 6,
   "id": "c9edf904",
   "metadata": {},
   "outputs": [
    {
     "name": "stdout",
     "output_type": "stream",
     "text": [
      "2\n",
      "4\n"
     ]
    }
   ],
   "source": [
    "for i in range(count_of_n):\n",
    "    more_numbers = int(input())\n",
    "    my_list.append(more_numbers)\n",
    "    \n",
    "    "
   ]
  },
  {
   "cell_type": "code",
   "execution_count": 8,
   "id": "3d76e20e",
   "metadata": {},
   "outputs": [],
   "source": [
    "      s = pd.Series(my_list)\n",
    "  "
   ]
  },
  {
   "cell_type": "code",
   "execution_count": 10,
   "id": "e0a7d8ea",
   "metadata": {},
   "outputs": [
    {
     "name": "stdout",
     "output_type": "stream",
     "text": [
      "0    4\n",
      "1    8\n",
      "dtype: int64\n"
     ]
    }
   ],
   "source": [
    "print(s*2)"
   ]
  },
  {
   "cell_type": "code",
   "execution_count": null,
   "id": "3b1cd690",
   "metadata": {},
   "outputs": [],
   "source": []
  }
 ],
 "metadata": {
  "kernelspec": {
   "display_name": "Python 3 (ipykernel)",
   "language": "python",
   "name": "python3"
  },
  "language_info": {
   "codemirror_mode": {
    "name": "ipython",
    "version": 3
   },
   "file_extension": ".py",
   "mimetype": "text/x-python",
   "name": "python",
   "nbconvert_exporter": "python",
   "pygments_lexer": "ipython3",
   "version": "3.11.5"
  }
 },
 "nbformat": 4,
 "nbformat_minor": 5
}
