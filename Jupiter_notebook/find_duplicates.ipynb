{
 "cells": [
  {
   "cell_type": "markdown",
   "id": "b8c19005",
   "metadata": {},
   "source": [
    "Write a program using Pandas that:\n",
    "\n",
    "· Read count of the numbers (N) from the first line of the console\n",
    "\n",
    "· Read as input a sequence of N integers, each integer on separate line\n",
    "\n",
    "· Transform it into Pandas Series\n",
    "\n",
    "· Print whether there are duplicates in the Series or not (True or False)"
   ]
  },
  {
   "cell_type": "code",
   "execution_count": null,
   "id": "29f3ace7",
   "metadata": {},
   "outputs": [],
   "source": [
    "import pandas as pd\n",
    "n_number = int(input())\n",
    "  my_list = []\n",
    "  for i in range(n_number):\n",
    "    numbers = int(input())\n",
    "    my_list.append(numbers)\n",
    "      s = pd.Series(my_list)\n",
    "if s.duplicated().any():\n",
    "   print(True)\n",
    "else:\n",
    "   print(False)"
   ]
  }
 ],
 "metadata": {
  "kernelspec": {
   "display_name": "Python 3 (ipykernel)",
   "language": "python",
   "name": "python3"
  },
  "language_info": {
   "codemirror_mode": {
    "name": "ipython",
    "version": 3
   },
   "file_extension": ".py",
   "mimetype": "text/x-python",
   "name": "python",
   "nbconvert_exporter": "python",
   "pygments_lexer": "ipython3",
   "version": "3.11.5"
  }
 },
 "nbformat": 4,
 "nbformat_minor": 5
}
